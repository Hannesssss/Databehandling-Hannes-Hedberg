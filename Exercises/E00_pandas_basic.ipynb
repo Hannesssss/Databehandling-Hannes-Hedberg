{
 "cells": [
  {
   "cell_type": "markdown",
   "metadata": {},
   "source": [
    "# 0. Exercises - Pandas Basic"
   ]
  },
  {
   "cell_type": "markdown",
   "metadata": {},
   "source": [
    "## 1. Cities in Sweden - create dataset(*)"
   ]
  },
  {
   "cell_type": "markdown",
   "metadata": {},
   "source": [
    "Create this DataFrame from scratch:\n",
    "|Number|Kommun|Population|\n",
    "|------|----------|---|\n",
    "|0|Malmö|347949|\n",
    "|1|Stockholm|975551|\n",
    "|2|Uppsala|233839|\n",
    "|3|Göteborg|583056|\n",
    "\n",
    "<ol type=\"a\">\n",
    "\n",
    "<li>) Use your DataFrame to point out all the cities (*) </li>\n",
    "<li>) Select only the row which contains Göteborg. Do this by using the name Göteborg.(*) </li>\n",
    "<li>) Sort the cities by population from largest to smallest.(*) </li>\n",
    "<li>) Filter out the three largest cities. (*) </li>\n",
    "<li>) The whole population in Sweden 2020 is *10 379 295*. Use this number to create a new column in your sorted DataFrame named: \"Population\"(%). This column should be filled with percentage of the Swedish population for each city. </li>\n",
    "\n",
    "</ol>"
   ]
  },
  {
   "cell_type": "markdown",
   "metadata": {},
   "source": [
    "### 1.0 Importing tools"
   ]
  },
  {
   "cell_type": "code",
   "execution_count": 2,
   "metadata": {},
   "outputs": [
    {
     "data": {
      "text/plain": [
       "<module 'pandas' from 'c:\\\\Users\\\\user\\\\.virtualenvs\\\\Databehandling-Hannes-Hedberg-mj0r6VOb\\\\lib\\\\site-packages\\\\pandas\\\\__init__.py'>"
      ]
     },
     "execution_count": 2,
     "metadata": {},
     "output_type": "execute_result"
    }
   ],
   "source": [
    "import pandas as pd\n",
    "pd"
   ]
  },
  {
   "cell_type": "markdown",
   "metadata": {},
   "source": [
    "### 1.1 a)"
   ]
  },
  {
   "cell_type": "code",
   "execution_count": 72,
   "metadata": {},
   "outputs": [
    {
     "data": {
      "text/html": [
       "<div>\n",
       "<style scoped>\n",
       "    .dataframe tbody tr th:only-of-type {\n",
       "        vertical-align: middle;\n",
       "    }\n",
       "\n",
       "    .dataframe tbody tr th {\n",
       "        vertical-align: top;\n",
       "    }\n",
       "\n",
       "    .dataframe thead th {\n",
       "        text-align: right;\n",
       "    }\n",
       "</style>\n",
       "<table border=\"1\" class=\"dataframe\">\n",
       "  <thead>\n",
       "    <tr style=\"text-align: right;\">\n",
       "      <th></th>\n",
       "      <th>Kommun</th>\n",
       "      <th>Population</th>\n",
       "    </tr>\n",
       "  </thead>\n",
       "  <tbody>\n",
       "    <tr>\n",
       "      <th>0</th>\n",
       "      <td>Malmö</td>\n",
       "      <td>347949</td>\n",
       "    </tr>\n",
       "    <tr>\n",
       "      <th>1</th>\n",
       "      <td>Stockholm</td>\n",
       "      <td>975551</td>\n",
       "    </tr>\n",
       "    <tr>\n",
       "      <th>2</th>\n",
       "      <td>Uppsala</td>\n",
       "      <td>233839</td>\n",
       "    </tr>\n",
       "    <tr>\n",
       "      <th>3</th>\n",
       "      <td>Göteborg</td>\n",
       "      <td>583056</td>\n",
       "    </tr>\n",
       "  </tbody>\n",
       "</table>\n",
       "</div>"
      ],
      "text/plain": [
       "      Kommun Population\n",
       "0      Malmö     347949\n",
       "1  Stockholm     975551\n",
       "2    Uppsala     233839\n",
       "3   Göteborg     583056"
      ]
     },
     "execution_count": 72,
     "metadata": {},
     "output_type": "execute_result"
    }
   ],
   "source": [
    "# crete\n",
    "population = pd.Series({\"0\": \"347949\", \"1\": 975551, \"2\": 233839, \"3\": 583056})\n",
    "kommun = pd.Series({\"0\": \"Malmö\", \"1\": \"Stockholm\", \"2\": \"Uppsala\", \"3\": \"Göteborg\"})\n",
    "\n",
    "df_populations = pd.DataFrame({\"Kommun\": kommun, \"Population\": population})\n",
    "df_populations"
   ]
  },
  {
   "cell_type": "code",
   "execution_count": 74,
   "metadata": {},
   "outputs": [
    {
     "data": {
      "text/plain": [
       "Malmö        347949\n",
       "Stockholm    975551\n",
       "Uppsala      233839\n",
       "Göteborg     583056\n",
       "dtype: int64"
      ]
     },
     "execution_count": 74,
     "metadata": {},
     "output_type": "execute_result"
    }
   ],
   "source": [
    "cities_population_series = pd.Series(cities_population)\n",
    "cities_population_series"
   ]
  }
 ],
 "metadata": {
  "kernelspec": {
   "display_name": "Python 3.9.13 ('Databehandling-Hannes-Hedberg-mj0r6VOb')",
   "language": "python",
   "name": "python3"
  },
  "language_info": {
   "codemirror_mode": {
    "name": "ipython",
    "version": 3
   },
   "file_extension": ".py",
   "mimetype": "text/x-python",
   "name": "python",
   "nbconvert_exporter": "python",
   "pygments_lexer": "ipython3",
   "version": "3.9.13"
  },
  "orig_nbformat": 4,
  "vscode": {
   "interpreter": {
    "hash": "b4de9261c884086067be0c72e85e47ac3e5c81f15918e463265b7f7f8ccf02d6"
   }
  }
 },
 "nbformat": 4,
 "nbformat_minor": 2
}
