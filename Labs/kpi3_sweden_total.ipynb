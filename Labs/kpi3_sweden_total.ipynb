{
 "cells": [
  {
   "cell_type": "code",
   "execution_count": 2,
   "metadata": {},
   "outputs": [],
   "source": [
    "import pandas as pd\n",
    "import matplotlib.pyplot as plt\n",
    "import numpy as np\n",
    "import seaborn as sns"
   ]
  },
  {
   "cell_type": "code",
   "execution_count": 3,
   "metadata": {},
   "outputs": [
    {
     "data": {
      "text/html": [
       "<div>\n",
       "<style scoped>\n",
       "    .dataframe tbody tr th:only-of-type {\n",
       "        vertical-align: middle;\n",
       "    }\n",
       "\n",
       "    .dataframe tbody tr th {\n",
       "        vertical-align: top;\n",
       "    }\n",
       "\n",
       "    .dataframe thead th {\n",
       "        text-align: right;\n",
       "    }\n",
       "</style>\n",
       "<table border=\"1\" class=\"dataframe\">\n",
       "  <thead>\n",
       "    <tr style=\"text-align: right;\">\n",
       "      <th></th>\n",
       "      <th>Statistikdatum</th>\n",
       "      <th>Totalt_antal_fall</th>\n",
       "      <th>Blekinge</th>\n",
       "      <th>Dalarna</th>\n",
       "      <th>Gotland</th>\n",
       "      <th>Gävleborg</th>\n",
       "      <th>Halland</th>\n",
       "      <th>Jämtland_Härjedalen</th>\n",
       "      <th>Jönköping</th>\n",
       "      <th>Kalmar</th>\n",
       "      <th>...</th>\n",
       "      <th>Stockholm</th>\n",
       "      <th>Sörmland</th>\n",
       "      <th>Uppsala</th>\n",
       "      <th>Värmland</th>\n",
       "      <th>Västerbotten</th>\n",
       "      <th>Västernorrland</th>\n",
       "      <th>Västmanland</th>\n",
       "      <th>Västra_Götaland</th>\n",
       "      <th>Örebro</th>\n",
       "      <th>Östergötland</th>\n",
       "    </tr>\n",
       "  </thead>\n",
       "  <tbody>\n",
       "    <tr>\n",
       "      <th>0</th>\n",
       "      <td>2020-02-04</td>\n",
       "      <td>1</td>\n",
       "      <td>0</td>\n",
       "      <td>0</td>\n",
       "      <td>0</td>\n",
       "      <td>0</td>\n",
       "      <td>0</td>\n",
       "      <td>0</td>\n",
       "      <td>1</td>\n",
       "      <td>0</td>\n",
       "      <td>...</td>\n",
       "      <td>0</td>\n",
       "      <td>0</td>\n",
       "      <td>0</td>\n",
       "      <td>0</td>\n",
       "      <td>0</td>\n",
       "      <td>0</td>\n",
       "      <td>0</td>\n",
       "      <td>0</td>\n",
       "      <td>0</td>\n",
       "      <td>0</td>\n",
       "    </tr>\n",
       "    <tr>\n",
       "      <th>1</th>\n",
       "      <td>2020-02-05</td>\n",
       "      <td>0</td>\n",
       "      <td>0</td>\n",
       "      <td>0</td>\n",
       "      <td>0</td>\n",
       "      <td>0</td>\n",
       "      <td>0</td>\n",
       "      <td>0</td>\n",
       "      <td>0</td>\n",
       "      <td>0</td>\n",
       "      <td>...</td>\n",
       "      <td>0</td>\n",
       "      <td>0</td>\n",
       "      <td>0</td>\n",
       "      <td>0</td>\n",
       "      <td>0</td>\n",
       "      <td>0</td>\n",
       "      <td>0</td>\n",
       "      <td>0</td>\n",
       "      <td>0</td>\n",
       "      <td>0</td>\n",
       "    </tr>\n",
       "    <tr>\n",
       "      <th>2</th>\n",
       "      <td>2020-02-06</td>\n",
       "      <td>0</td>\n",
       "      <td>0</td>\n",
       "      <td>0</td>\n",
       "      <td>0</td>\n",
       "      <td>0</td>\n",
       "      <td>0</td>\n",
       "      <td>0</td>\n",
       "      <td>0</td>\n",
       "      <td>0</td>\n",
       "      <td>...</td>\n",
       "      <td>0</td>\n",
       "      <td>0</td>\n",
       "      <td>0</td>\n",
       "      <td>0</td>\n",
       "      <td>0</td>\n",
       "      <td>0</td>\n",
       "      <td>0</td>\n",
       "      <td>0</td>\n",
       "      <td>0</td>\n",
       "      <td>0</td>\n",
       "    </tr>\n",
       "    <tr>\n",
       "      <th>3</th>\n",
       "      <td>2020-02-07</td>\n",
       "      <td>0</td>\n",
       "      <td>0</td>\n",
       "      <td>0</td>\n",
       "      <td>0</td>\n",
       "      <td>0</td>\n",
       "      <td>0</td>\n",
       "      <td>0</td>\n",
       "      <td>0</td>\n",
       "      <td>0</td>\n",
       "      <td>...</td>\n",
       "      <td>0</td>\n",
       "      <td>0</td>\n",
       "      <td>0</td>\n",
       "      <td>0</td>\n",
       "      <td>0</td>\n",
       "      <td>0</td>\n",
       "      <td>0</td>\n",
       "      <td>0</td>\n",
       "      <td>0</td>\n",
       "      <td>0</td>\n",
       "    </tr>\n",
       "    <tr>\n",
       "      <th>4</th>\n",
       "      <td>2020-02-08</td>\n",
       "      <td>0</td>\n",
       "      <td>0</td>\n",
       "      <td>0</td>\n",
       "      <td>0</td>\n",
       "      <td>0</td>\n",
       "      <td>0</td>\n",
       "      <td>0</td>\n",
       "      <td>0</td>\n",
       "      <td>0</td>\n",
       "      <td>...</td>\n",
       "      <td>0</td>\n",
       "      <td>0</td>\n",
       "      <td>0</td>\n",
       "      <td>0</td>\n",
       "      <td>0</td>\n",
       "      <td>0</td>\n",
       "      <td>0</td>\n",
       "      <td>0</td>\n",
       "      <td>0</td>\n",
       "      <td>0</td>\n",
       "    </tr>\n",
       "  </tbody>\n",
       "</table>\n",
       "<p>5 rows × 23 columns</p>\n",
       "</div>"
      ],
      "text/plain": [
       "  Statistikdatum  Totalt_antal_fall  Blekinge  Dalarna  Gotland  Gävleborg  \\\n",
       "0     2020-02-04                  1         0        0        0          0   \n",
       "1     2020-02-05                  0         0        0        0          0   \n",
       "2     2020-02-06                  0         0        0        0          0   \n",
       "3     2020-02-07                  0         0        0        0          0   \n",
       "4     2020-02-08                  0         0        0        0          0   \n",
       "\n",
       "   Halland  Jämtland_Härjedalen  Jönköping  Kalmar  ...  Stockholm  Sörmland  \\\n",
       "0        0                    0          1       0  ...          0         0   \n",
       "1        0                    0          0       0  ...          0         0   \n",
       "2        0                    0          0       0  ...          0         0   \n",
       "3        0                    0          0       0  ...          0         0   \n",
       "4        0                    0          0       0  ...          0         0   \n",
       "\n",
       "   Uppsala  Värmland  Västerbotten  Västernorrland  Västmanland  \\\n",
       "0        0         0             0               0            0   \n",
       "1        0         0             0               0            0   \n",
       "2        0         0             0               0            0   \n",
       "3        0         0             0               0            0   \n",
       "4        0         0             0               0            0   \n",
       "\n",
       "   Västra_Götaland  Örebro  Östergötland  \n",
       "0                0       0             0  \n",
       "1                0       0             0  \n",
       "2                0       0             0  \n",
       "3                0       0             0  \n",
       "4                0       0             0  \n",
       "\n",
       "[5 rows x 23 columns]"
      ]
     },
     "execution_count": 3,
     "metadata": {},
     "output_type": "execute_result"
    }
   ],
   "source": [
    "c19_num_cases = pd.read_excel('../Data/Folkhalsomyndigheten_Covid19.xlsx', sheet_name='Antal per dag region')\n",
    "c19_num_cases.head()"
   ]
  },
  {
   "cell_type": "code",
   "execution_count": 4,
   "metadata": {},
   "outputs": [
    {
     "data": {
      "text/html": [
       "<div>\n",
       "<style scoped>\n",
       "    .dataframe tbody tr th:only-of-type {\n",
       "        vertical-align: middle;\n",
       "    }\n",
       "\n",
       "    .dataframe tbody tr th {\n",
       "        vertical-align: top;\n",
       "    }\n",
       "\n",
       "    .dataframe thead th {\n",
       "        text-align: right;\n",
       "    }\n",
       "</style>\n",
       "<table border=\"1\" class=\"dataframe\">\n",
       "  <thead>\n",
       "    <tr style=\"text-align: right;\">\n",
       "      <th></th>\n",
       "      <th>Region</th>\n",
       "      <th>Totalt_antal_fall</th>\n",
       "      <th>Fall_per_100000_inv</th>\n",
       "      <th>Totalt_antal_intensivvårdade</th>\n",
       "      <th>Totalt_antal_avlidna</th>\n",
       "    </tr>\n",
       "  </thead>\n",
       "  <tbody>\n",
       "    <tr>\n",
       "      <th>0</th>\n",
       "      <td>Blekinge</td>\n",
       "      <td>30829</td>\n",
       "      <td>19371.449951</td>\n",
       "      <td>85</td>\n",
       "      <td>184</td>\n",
       "    </tr>\n",
       "    <tr>\n",
       "      <th>1</th>\n",
       "      <td>Dalarna</td>\n",
       "      <td>75091</td>\n",
       "      <td>26098.780273</td>\n",
       "      <td>260</td>\n",
       "      <td>544</td>\n",
       "    </tr>\n",
       "    <tr>\n",
       "      <th>2</th>\n",
       "      <td>Gotland</td>\n",
       "      <td>11874</td>\n",
       "      <td>19776.671875</td>\n",
       "      <td>46</td>\n",
       "      <td>82</td>\n",
       "    </tr>\n",
       "    <tr>\n",
       "      <th>3</th>\n",
       "      <td>Gävleborg</td>\n",
       "      <td>74803</td>\n",
       "      <td>26020.503418</td>\n",
       "      <td>332</td>\n",
       "      <td>754</td>\n",
       "    </tr>\n",
       "    <tr>\n",
       "      <th>4</th>\n",
       "      <td>Halland</td>\n",
       "      <td>108822</td>\n",
       "      <td>32349.047119</td>\n",
       "      <td>229</td>\n",
       "      <td>518</td>\n",
       "    </tr>\n",
       "  </tbody>\n",
       "</table>\n",
       "</div>"
      ],
      "text/plain": [
       "      Region  Totalt_antal_fall  Fall_per_100000_inv  \\\n",
       "0   Blekinge              30829         19371.449951   \n",
       "1    Dalarna              75091         26098.780273   \n",
       "2    Gotland              11874         19776.671875   \n",
       "3  Gävleborg              74803         26020.503418   \n",
       "4    Halland             108822         32349.047119   \n",
       "\n",
       "   Totalt_antal_intensivvårdade  Totalt_antal_avlidna  \n",
       "0                            85                   184  \n",
       "1                           260                   544  \n",
       "2                            46                    82  \n",
       "3                           332                   754  \n",
       "4                           229                   518  "
      ]
     },
     "execution_count": 4,
     "metadata": {},
     "output_type": "execute_result"
    }
   ],
   "source": [
    "c19_num_total_cases = pd.read_excel('../Data/Folkhalsomyndigheten_Covid19.xlsx', sheet_name='Totalt antal per region')\n",
    "c19_num_total_cases.head()"
   ]
  },
  {
   "cell_type": "code",
   "execution_count": 5,
   "metadata": {},
   "outputs": [
    {
     "data": {
      "text/plain": [
       "2611580"
      ]
     },
     "execution_count": 5,
     "metadata": {},
     "output_type": "execute_result"
    }
   ],
   "source": [
    "num_sweden_cases = c19_num_total_cases[\"Totalt_antal_fall\"].sum()\n",
    "num_sweden_cases"
   ]
  },
  {
   "cell_type": "code",
   "execution_count": 7,
   "metadata": {},
   "outputs": [
    {
     "data": {
      "text/plain": [
       "'Västra Götaland'"
      ]
     },
     "execution_count": 7,
     "metadata": {},
     "output_type": "execute_result"
    }
   ],
   "source": [
    "locate_vastra_gotaland_cases = c19_num_total_cases.loc[18:18, \"Region\"].sum()\n",
    "locate_vastra_gotaland_cases"
   ]
  },
  {
   "cell_type": "code",
   "execution_count": 9,
   "metadata": {},
   "outputs": [
    {
     "data": {
      "text/plain": [
       "444278"
      ]
     },
     "execution_count": 9,
     "metadata": {},
     "output_type": "execute_result"
    }
   ],
   "source": [
    "num_vastra_gotaland_cases = c19_num_total_cases.loc[18:18, \"Totalt_antal_fall\"].sum()\n",
    "num_vastra_gotaland_cases"
   ]
  },
  {
   "cell_type": "code",
   "execution_count": 13,
   "metadata": {},
   "outputs": [
    {
     "data": {
      "image/png": "[encoded data removed]",
      "text/plain": [
       "<Figure size 640x480 with 1 Axes>"
      ]
     },
     "metadata": {},
     "output_type": "display_data"
    },
    {
     "data": {
      "text/plain": [
       "<Figure size 640x480 with 0 Axes>"
      ]
     },
     "metadata": {},
     "output_type": "display_data"
    }
   ],
   "source": [
    "labels = 'Västra Götaland', 'Sweden'\n",
    "sizes = np.array([num_vastra_gotaland_cases, num_sweden_cases])\n",
    "colors = ['cyan', 'yellow']\n",
    "\n",
    "def absolute_value(val):\n",
    "    a  = np.round(val/100.*sizes.sum(), 0)\n",
    "    return a\n",
    "\n",
    "plt.pie(sizes, labels=labels, colors=colors,\n",
    "        autopct=absolute_value, shadow=True)\n",
    "\n",
    "plt.axis('equal')\n",
    "plt.show()\n",
    "plt.savefig(\"Visualiseringar/KPI3_Sweden_vastra_gotaland.png\", dpi=100)\n"
   ]
  }
 ],
 "metadata": {
  "kernelspec": {
   "display_name": "Python 3.9.13 ('Databehandling-Hannes-Hedberg-mj0r6VOb')",
   "language": "python",
   "name": "python3"
  },
  "language_info": {
   "codemirror_mode": {
    "name": "ipython",
    "version": 3
   },
   "file_extension": ".py",
   "mimetype": "text/x-python",
   "name": "python",
   "nbconvert_exporter": "python",
   "pygments_lexer": "ipython3",
   "version": "3.9.13"
  },
  "orig_nbformat": 4,
  "vscode": {
   "interpreter": {
    "hash": "b4de9261c884086067be0c72e85e47ac3e5c81f15918e463265b7f7f8ccf02d6"
   }
  }
 },
 "nbformat": 4,
 "nbformat_minor": 2
}
