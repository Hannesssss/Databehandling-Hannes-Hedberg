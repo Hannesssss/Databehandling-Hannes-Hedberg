{
 "cells": [
  {
   "cell_type": "code",
   "execution_count": null,
   "metadata": {},
   "outputs": [],
   "source": [
    "fig = px.bar(\n",
    "    data_frame=vaccin_kommun_och_alder['Län_namn'],\n",
    "    x=['Västra Götalands län', 'Stockholms län'],\n",
    "    y=[\n",
    "        percent_dose_1[['Västra Götalands län', 'Stockholms län']],\n",
    "        percent_dose_2[['Västra Götalands län', 'Stockholms län']],\n",
    "        percent_dose_3[['Västra Götalands län', 'Stockholms län']],\n",
    "        percent_dose_4[['Västra Götalands län', 'Stockholms län']]\n",
    "    ],\n",
    "    barmode='group',\n",
    "    title='Vaccin dos distribution emellan Västra Götaland och Stockholm',\n",
    "    labels={\n",
    "        'value': '%',\n",
    "        'variable': '',\n",
    "        'x': ''\n",
    "    }\n",
    ")\n",
    "\n",
    "fig.update_layout(yaxis_range=[0, 100])\n",
    "\n",
    "# Source: https://stackoverflow.com/questions/64371174/plotly-how-to-change-variable-label-names-for-the-legend-in-a-plotly-express-li\n",
    "fig.for_each_trace(lambda t: t.update(name=rename[t.name]))\n",
    "\n",
    "fig.show()\n",
    "fig.write_html(\"Visualiseringar/Vaccin_dos_distribution_emellan_Västra_Götaland_och_Stockholm.html\")"
   ]
  },
  {
   "cell_type": "code",
   "execution_count": null,
   "metadata": {},
   "outputs": [],
   "source": [
    "# Some parts 'borrowed' (if one can say that) from:\n",
    "# https://github.com/Danneftw1/Databehandling-Daniel-Nilsson/blob/main/Labb_1/Labb.ipynb\n",
    "\n",
    "# Create a group of all unique \"Län_namn\" entries\n",
    "lans_group = vaccin_kommun_och_alder.groupby('Län_namn')\n",
    "\n",
    "# Get individual summed vaccine values for each dose and divide them by the total population\n",
    "percent_dose_1 = lans_group['Antal minst 1 dos'].sum() / lans_group['Befolkning'].sum() * 100\n",
    "percent_dose_2 = lans_group['Antal minst 2 doser'].sum() / lans_group['Befolkning'].sum() * 100\n",
    "percent_dose_3 = lans_group['Antal 3 doser'].sum() / lans_group['Befolkning'].sum() * 100\n",
    "percent_dose_4 = lans_group['Antal 4 doser'].sum() / lans_group['Befolkning'].sum() * 100\n",
    "\n",
    "\n",
    "fig = px.bar(\n",
    "    data_frame=vaccin_kommun_och_alder,\n",
    "    x=vaccin_kommun_och_alder.Län_namn.unique(),\n",
    "    y=[\n",
    "        percent_dose_1,\n",
    "        percent_dose_2,\n",
    "        percent_dose_3\n",
    "    ],\n",
    "    barmode='group',\n",
    "    title='Vaccin dos distribution emellan länen',\n",
    "    labels={\n",
    "        'value': '%',\n",
    "        'variable': '',\n",
    "        'x': ''\n",
    "    }\n",
    ")\n",
    "\n",
    "# Set y axis range to 100 in order to simulate a percentage range\n",
    "fig.update_layout(yaxis_range=[0, 100])\n",
    "\n",
    "# Dict for renaming bars\n",
    "rename = {f'wide_variable_{i}': f'Dos {i+1}' for i in range(4)}\n",
    "\n",
    "# Source: https://stackoverflow.com/questions/64371174/plotly-how-to-change-variable-label-names-for-the-legend-in-a-plotly-express-li\n",
    "# Rename all bars in plot\n",
    "fig.for_each_trace(lambda t: t.update(name=rename[t.name]))\n",
    "\n",
    "fig.show()\n",
    "fig.write_html(\"Visualiseringar/Vaccin_dos_distribution_emellan_länen.html\")"
   ]
  },
  {
   "cell_type": "code",
   "execution_count": null,
   "metadata": {},
   "outputs": [],
   "source": [
    "fig = px.bar(\n",
    "    data_frame=vaccin_kommun_och_alder['Län_namn'],\n",
    "    x=['Västra Götalands län', 'Stockholms län'],\n",
    "    y=[\n",
    "        percent_dose_1[['Västra Götalands län', 'Stockholms län']],\n",
    "        percent_dose_2[['Västra Götalands län', 'Stockholms län']],\n",
    "        percent_dose_3[['Västra Götalands län', 'Stockholms län']],\n",
    "        percent_dose_4[['Västra Götalands län', 'Stockholms län']]\n",
    "    ],\n",
    "    barmode='group',\n",
    "    title='Vaccin dos distribution emellan Västra Götaland och Stockholm',\n",
    "    labels={\n",
    "        'value': '%',\n",
    "        'variable': '',\n",
    "        'x': ''\n",
    "    }\n",
    ")\n",
    "\n",
    "fig.update_layout(yaxis_range=[0, 100])\n",
    "\n",
    "# Source: https://stackoverflow.com/questions/64371174/plotly-how-to-change-variable-label-names-for-the-legend-in-a-plotly-express-li\n",
    "fig.for_each_trace(lambda t: t.update(name=rename[t.name]))\n",
    "\n",
    "fig.show()\n",
    "fig.write_html(\"Visualiseringar/Vaccin_dos_distribution_emellan_Västra_Götaland_och_Stockholm.html\")"
   ]
  },
  {
   "cell_type": "code",
   "execution_count": null,
   "metadata": {},
   "outputs": [],
   "source": [
    "y = np.array([35, 25, 25, 15])\n",
    "print(y)"
   ]
  },
  {
   "cell_type": "code",
   "execution_count": null,
   "metadata": {},
   "outputs": [],
   "source": [
    "plt.pie(y)\n",
    "plt.show() "
   ]
  }
 ],
 "metadata": {
  "kernelspec": {
   "display_name": "Python 3.9.13 64-bit",
   "language": "python",
   "name": "python3"
  },
  "language_info": {
   "name": "python",
   "version": "3.9.13"
  },
  "orig_nbformat": 4,
  "vscode": {
   "interpreter": {
    "hash": "82ed002fa2d4956f5c6aec99bcefe0f73a9f79882f3c9e2319b14958a5896ac5"
   }
  }
 },
 "nbformat": 4,
 "nbformat_minor": 2
}
