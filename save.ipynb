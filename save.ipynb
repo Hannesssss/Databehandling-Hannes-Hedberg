{
 "cells": [
  {
   "cell_type": "code",
   "execution_count": null,
   "metadata": {},
   "outputs": [],
   "source": [
    "län_group = vaccin_kommun_och_alder.groupby([\"Län_namn\"]) # grouping by län\n",
    "län_group.head()\n",
    "län_group.get_group(\"Kalmar län\") "
   ]
  },
  {
   "cell_type": "code",
   "execution_count": null,
   "metadata": {},
   "outputs": [],
   "source": [
    "df_andel_dos = pd.DataFrame()\n",
    "df_andel_dos[\"Antal minst 1 dos\"] = län_group[\"Antal minst 1 dos\"].sum() / län_group[\"Befolkning\"].sum()\n",
    "df_andel_dos[\"Antal minst 2 doser\"] = län_group[\"Antal minst 2 doser\"].sum() / län_group[\"Befolkning\"].sum()\n",
    "df_andel_dos[\"Antal 3 doser\"] = län_group[\"Antal 3 doser\"].sum() / län_group[\"Befolkning\"].sum()\n",
    "\n",
    "df_andel_dos.head()"
   ]
  },
  {
   "cell_type": "code",
   "execution_count": null,
   "metadata": {},
   "outputs": [],
   "source": [
    "fig = px.bar(\n",
    "    df_andel_dos,\n",
    "    barmode=\"group\", # bars are placed beside each other. https://towardsdatascience.com/how-to-create-a-grouped-bar-chart-with-plotly-express-in-python-e2b64ed4abd7\n",
    "    title=\"Andel av befolkning ålder 12-90+ vaccinerade, x antal doser\",\n",
    "    labels= {\"value\": \"andel vaccinerade\", \"Län_namn\": \"Län\", \"variable\": \"Doser\"}\n",
    ")\n",
    "fig.show()\n",
    "fig.write_html(\"Visualiseringar/andel_befolkning_vaccinerade_x_antal_doser.html\")"
   ]
  }
 ],
 "metadata": {
  "kernelspec": {
   "display_name": "Python 3.9.13 64-bit",
   "language": "python",
   "name": "python3"
  },
  "language_info": {
   "name": "python",
   "version": "3.9.13"
  },
  "orig_nbformat": 4,
  "vscode": {
   "interpreter": {
    "hash": "82ed002fa2d4956f5c6aec99bcefe0f73a9f79882f3c9e2319b14958a5896ac5"
   }
  }
 },
 "nbformat": 4,
 "nbformat_minor": 2
}
